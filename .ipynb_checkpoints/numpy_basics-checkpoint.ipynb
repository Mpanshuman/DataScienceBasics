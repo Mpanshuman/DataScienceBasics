{
 "cells": [
  {
   "cell_type": "code",
   "execution_count": 2,
   "id": "4ef0c8c0",
   "metadata": {},
   "outputs": [],
   "source": [
    "import numpy as np"
   ]
  },
  {
   "cell_type": "code",
   "execution_count": 3,
   "id": "1c9686b6",
   "metadata": {},
   "outputs": [
    {
     "name": "stdout",
     "output_type": "stream",
     "text": [
      "[1 2 3 4 5]\n",
      "4\n"
     ]
    }
   ],
   "source": [
    "# creating one dimensional array\n",
    "arr = np.array([1,2,3,4,5])\n",
    "print(arr)\n",
    "\n",
    "# elements of an array can be accessed through index\n",
    "# index of an array starts with 0\n",
    "\n",
    "print(arr[3])"
   ]
  },
  {
   "cell_type": "code",
   "execution_count": 4,
   "id": "59dcbc10",
   "metadata": {},
   "outputs": [
    {
     "name": "stdout",
     "output_type": "stream",
     "text": [
      "[[ 1  2  3  4  5  6]\n",
      " [ 7  8  9 10 11 12]\n",
      " [13 14 15 16 17 18]]\n",
      "(3, 6)\n",
      "[[ 1  2  3  4  5  6  7  8  9]\n",
      " [10 11 12 13 14 15 16 17 18]]\n",
      "8\n",
      "[[ 3  4]\n",
      " [ 9 10]\n",
      " [15 16]]\n"
     ]
    }
   ],
   "source": [
    "# creating 2d arrayzoho_o_insert_call\n",
    "lis1 = [1,2,3,4,5,6]\n",
    "lis2 = [7,8,9,10,11,12]\n",
    "lis3 = [13,14,15,16,17,18]\n",
    "arr2d = np.array([lis1,lis2,lis3])\n",
    "print(arr2d)\n",
    "\n",
    "# we can check the shape of array by shape function\n",
    "print(arr2d.shape)\n",
    "\n",
    "# we can reshape an array by reshape function, but the number of element should be smae\n",
    "print(arr2d.reshape(2,9))\n",
    "\n",
    "# As it is a 2d array we can access the elements in the following way\n",
    "print(arr2d[1][1])\n",
    "print(arr2d[:3,2:4])"
   ]
  },
  {
   "cell_type": "code",
   "execution_count": 5,
   "id": "f0a02e39",
   "metadata": {},
   "outputs": [
    {
     "name": "stdout",
     "output_type": "stream",
     "text": [
      "[[[1 2 3]\n",
      "  [4 5 6]]\n",
      "\n",
      " [[1 2 3]\n",
      "  [4 5 6]]]\n",
      "6\n"
     ]
    }
   ],
   "source": [
    "arr3d = np.array([[[1, 2, 3], [4, 5, 6]], [[1, 2, 3], [4, 5, 6]]])\n",
    "print(arr3d)\n",
    "print(arr3d[1][1][2])"
   ]
  },
  {
   "cell_type": "code",
   "execution_count": 6,
   "id": "c3baeab6",
   "metadata": {},
   "outputs": [
    {
     "name": "stdout",
     "output_type": "stream",
     "text": [
      "2\n",
      "3\n",
      "[[[[[1 2 3 4 5]]]]]\n",
      "5\n"
     ]
    }
   ],
   "source": [
    "# we can create and check dimensions of an array using ndmin and ndim respectively\n",
    "print(arr2d.ndim)\n",
    "print(arr3d.ndim)\n",
    "arr5d = np.array([1,2,3,4,5],ndmin=5)\n",
    "print(arr5d)\n",
    "print(arr5d.ndim)"
   ]
  },
  {
   "cell_type": "code",
   "execution_count": 7,
   "id": "df7642f6",
   "metadata": {},
   "outputs": [
    {
     "name": "stdout",
     "output_type": "stream",
     "text": [
      "int32\n"
     ]
    }
   ],
   "source": [
    "# we can check array data type\n",
    "print(arr2d.dtype)"
   ]
  },
  {
   "cell_type": "code",
   "execution_count": 16,
   "id": "f6bda078",
   "metadata": {},
   "outputs": [
    {
     "data": {
      "text/plain": [
       "array([b'1', b'23', b'3', b'4', b'1'], dtype='|S2')"
      ]
     },
     "execution_count": 16,
     "metadata": {},
     "output_type": "execute_result"
    }
   ],
   "source": [
    "str_lis = [1,23,3,4,1]\n",
    "str_arr = np.array(str_lis,dtype=\"S\")\n",
    "str_arr"
   ]
  },
  {
   "cell_type": "code",
   "execution_count": 29,
   "id": "63083bcd",
   "metadata": {},
   "outputs": [
    {
     "name": "stdout",
     "output_type": "stream",
     "text": [
      "float64\n",
      "int32\n"
     ]
    }
   ],
   "source": [
    "# conert array to different data type using astype('data type')\n",
    "flt_arr = np.array([1.1,23.2,3.3,4.1,1.0])\n",
    "flt_arr\n",
    "int_arr = flt_arr.astype('i')\n",
    "int_arr\n",
    "print(flt_arr.dtype)\n",
    "print(int_arr.dtype)"
   ]
  },
  {
   "cell_type": "code",
   "execution_count": 32,
   "id": "91040b76",
   "metadata": {},
   "outputs": [
    {
     "name": "stdout",
     "output_type": "stream",
     "text": [
      "1\n",
      "2\n",
      "3\n",
      "4\n",
      "5\n",
      "6\n",
      "7\n",
      "8\n"
     ]
    }
   ],
   "source": [
    "# itering through array using nditer()\n",
    "\n",
    "arr = np.array([[[1, 2], [3, 4]], [[5, 6], [7, 8]]])\n",
    "\n",
    "for x in np.nditer(arr):\n",
    "  print(x)"
   ]
  },
  {
   "cell_type": "code",
   "execution_count": null,
   "id": "9a8dd487",
   "metadata": {},
   "outputs": [],
   "source": []
  }
 ],
 "metadata": {
  "kernelspec": {
   "display_name": "Python 3 (ipykernel)",
   "language": "python",
   "name": "python3"
  },
  "language_info": {
   "codemirror_mode": {
    "name": "ipython",
    "version": 3
   },
   "file_extension": ".py",
   "mimetype": "text/x-python",
   "name": "python",
   "nbconvert_exporter": "python",
   "pygments_lexer": "ipython3",
   "version": "3.10.9"
  }
 },
 "nbformat": 4,
 "nbformat_minor": 5
}
